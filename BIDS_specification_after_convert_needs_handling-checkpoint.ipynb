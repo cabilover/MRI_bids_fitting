{
 "cells": [
  {
   "cell_type": "code",
   "execution_count": 1,
   "id": "b3bfc60b",
   "metadata": {},
   "outputs": [],
   "source": [
    "import os\n",
    "import pandas as pd\n",
    "from glob import glob\n",
    "import subprocess\n",
    "import shutil\n",
    "import fnmatch\n",
    "import json"
   ]
  },
  {
   "cell_type": "code",
   "execution_count": 63,
   "id": "fba1427e",
   "metadata": {},
   "outputs": [],
   "source": [
    "source_folder =os.path.abspath(\"C:/Users/USER/Guro_Psy_KJH Dropbox/1.Projects/1_anxiety_VR/3_Data/3_MRI/0_sourcedata\")\n",
    "source_nii = os.path.abspath(\"C:/Users/USER/Guro_Psy_KJH Dropbox/1.Projects/1_anxiety_VR/3_Data/3_MRI/0_sourcedata_nii\")\n",
    "raw_folder = os.path.abspath(\"C:/Users/USER/Guro_Psy_KJH Dropbox/1.Projects/1_anxiety_VR/3_Data/3_MRI/20230207/raw_data\")"
   ]
  },
  {
   "cell_type": "code",
   "execution_count": 61,
   "id": "580ff292",
   "metadata": {},
   "outputs": [],
   "source": [
    "def copy_folder_structure(src, dst, depth):\n",
    "    for root, dirs, files in os.walk(src):\n",
    "        cur_depth = root[len(src):].count(os.sep)\n",
    "        if cur_depth > depth:\n",
    "            dirs[:] = []  # don't visit any deeper\n",
    "        elif cur_depth == depth:\n",
    "            modal =['anat','dwi','func']\n",
    "            dst_dir = os.path.abspath(dst+'/'+root[len(src):])\n",
    "            for m in modal:\n",
    "                path_m = os.path.abspath(dst_dir+'/'+m)\n",
    "                os.makedirs(path_m,exist_ok=True)\n",
    "        else: \n",
    "            dst_dir = os.path.abspath(dst+'/'+root[len(src):])    # os.path.join(dst,root[len(src):]) 계속 오류남\n",
    "            os.makedirs(dst_dir, exist_ok=True)\n",
    "            "
   ]
  },
  {
   "cell_type": "code",
   "execution_count": 64,
   "id": "a9b2bb7f",
   "metadata": {},
   "outputs": [],
   "source": [
    "copy_folder_structure(source_folder,raw_folder,3)\n",
    "copy_folder_structure(source_folder,source_nii,3)"
   ]
  },
  {
   "cell_type": "code",
   "execution_count": 10,
   "id": "74ff522e",
   "metadata": {},
   "outputs": [],
   "source": [
    "dcm2niix_path =\"C:/Users/USER/Documents/MATLAB/MRIcroGL/Resources/dcm2niix.exe\"\n",
    "dcm2niix_path= os.path.abspath(dcm2niix_path)\n",
    "arg2 = '\"%f_%p_%t_%s\"-p y -z n -o'\n",
    "\n",
    "for i in a:\n",
    "    dcm_path = os.path.abspath(i)\n",
    "    subprocess.run([dcm2niix_path,arg2,dcm_path])\n",
    "    \n",
    "# -> output folder지정에 계속 실패.\n",
    "# -> argument 개수 문제인 것 같은데 경우의 수에 대응이 안됨\n",
    "# -> source에 nii를 만들고 모든 json, nii를 raw로 옮기는 방식으로 진행하기로"
   ]
  },
  {
   "cell_type": "code",
   "execution_count": null,
   "id": "fcf61f6b",
   "metadata": {},
   "outputs": [],
   "source": []
  },
  {
   "cell_type": "code",
   "execution_count": 52,
   "id": "ce3fe4fb",
   "metadata": {},
   "outputs": [
    {
     "name": "stdout",
     "output_type": "stream",
     "text": [
      "D:\\Guro_Psy_KJH Dropbox\\1.Projects\\1.anxiety_VR\\3.Data\\3.MRI\\1.rawdata\\sub-0001\\ses-01\\anat\\sub-0001_ses-01_T1w.json\n"
     ]
    }
   ],
   "source": [
    "x = 'D:\\\\Guro_Psy_KJH Dropbox\\\\1.Projects\\\\1.anxiety_VR\\\\3.Data\\\\3.MRI\\\\0.sourcedata\\\\sub-0001\\\\ses-01\\\\sub-0001_ses-01'\n",
    "target_path = x.replace('0.sourcedata','1.rawdata')\n",
    "target_path = target_path[:-16]\n",
    "anat = glob(x+'/*AX*')\n",
    "# anat\n",
    "# g = 'D:\\\\Guro_Psy_KJH Dropbox\\\\1.Projects\\\\1.anxiety_VR\\\\3.Data\\\\3.MRI\\\\0.sourcedata\\\\sub-0001\\\\ses-01\\\\sub-0001_ses-01\\\\sub-0001_ses-01_3D_AX_20210901084856_402.json'\n",
    "# g1 = g[106:121] # 'sub-0001_ses-01'\n",
    "# g2 = g[-5:] # '.json'\n",
    "for g in anat:   \n",
    "    anat_path = os.path.join(target_path,'anat')\n",
    "#     print(g)\n",
    "    if fnmatch.fnmatch(g,'*.json'):\n",
    "        fl = g[106:121]+'_T1w'+'.json'\n",
    "        anat_path = os.path.join(anat_path,fl)\n",
    "        print(anat_path)\n",
    "# #     anat_path = os.path.join(anat_path, g[106:121]+'_T1w.'+g[-5:])\n",
    "#     print(anat_path)\n",
    "# #     shutil.copy2(g,anat_path)\n",
    "    "
   ]
  },
  {
   "cell_type": "code",
   "execution_count": null,
   "id": "bea223e3",
   "metadata": {},
   "outputs": [],
   "source": [
    "## json 파일읽고 수정하기\n"
   ]
  },
  {
   "cell_type": "code",
   "execution_count": 81,
   "id": "c5e0fd18",
   "metadata": {},
   "outputs": [],
   "source": [
    "for i in a:\n",
    "    anat = glob(i+'/*AX*')\n",
    "    dwi = glob(i+'/*_DTI_.*')\n",
    "    func = glob(i+'/*Resting*')\n",
    "    fmap = glob(i+'/*i00007*')\n",
    "    target_path = i.replace('0.sourcedata','1.rawdata')\n",
    "    target_path = target_path[:-16]\n",
    "    for g in anat:        \n",
    "        anat_path = os.path.join(target_path,'anat')\n",
    "        fl = g[106:121]+'_T1w'\n",
    "        if fnmatch.fnmatch(g,'*.json'):\n",
    "            fl = fl+'.json'\n",
    "            anat_path = os.path.join(anat_path,fl)\n",
    "            shutil.copy2(g,anat_path)\n",
    "        elif fnmatch.fnmatch(g,'*.nii'):\n",
    "            fl = fl +'.nii'\n",
    "            anat_path = os.path.join(anat_path,fl)\n",
    "            shutil.copy2(g,anat_path)\n",
    "        else: print('wrong file in anat'+g)\n",
    "            \n",
    "    for g in dwi:        \n",
    "        dwi_path = os.path.join(target_path,'dwi')\n",
    "        fl = g[106:121]+'_dwi'\n",
    "        if fnmatch.fnmatch(g,'*.nii'):\n",
    "            fl = fl+'.nii'\n",
    "            dti_path = os.path.join(dwi_path,fl)\n",
    "            shutil.copy2(g,dwi_path)\n",
    "        elif fnmatch.fnmatch(g,'*.bval'):\n",
    "            fl = fl+'.bval'\n",
    "            dti_path = os.path.join(dwi_path,fl)\n",
    "            shutil.copy2(g,dti_path)\n",
    "        elif fnmatch.fnmatch(g,'*.bvec'):\n",
    "            fl = fl+'.bvec'\n",
    "            dti_path = os.path.join(dwi_path,fl)\n",
    "            shutil.copy2(g,dwi_path)\n",
    "        else: print('wrong file in dti'+g)            \n",
    "        \n",
    "    for g in func:        \n",
    "        func_path = os.path.join(target_path,'func')\n",
    "        fl = g[106:121]+'_task-rest_bold'\n",
    "        if fnmatch.fnmatch(g,'*.nii'):\n",
    "            fl = fl+'.nii'\n",
    "            func_path = os.path.join(func_path,fl)\n",
    "            shutil.copy2(g,func_path)\n",
    "        elif fnmatch.fnmatch(g,'*.json'):\n",
    "            fl = fl+'.json'\n",
    "            func_path = os.path.join(func_path,fl)\n",
    "            shutil.copy2(g,func_path)\n",
    "            with open (func_path,'r') as f:\n",
    "                json_data = json.load(f)\n",
    "                json_data['TaskName']='rest'\n",
    "            with open(func_path,'w',encoding='utf-8') as make_file:\n",
    "                json.dump(json_data,make_file,indent='\\t')\n",
    "                \n",
    "        else: print('wrong file in func'+g)  \n",
    "        \n",
    "#     for g in fmap:        \n",
    "#         fmap_path = os.path.join(target_path,'fmap')\n",
    "#         fl = g[106:121]+'_fieldmap'\n",
    "#         if fnmatch.fnmatch(g,'*.nii'):\n",
    "#             fl = fl+'.nii'\n",
    "#             fmap_path = os.path.join(fmap_path,fl)\n",
    "#             shutil.copy2(g,fmap_path)\n",
    "#         elif fnmatch.fnmatch(g,'*.json'):\n",
    "#             fl = fl+'.json'\n",
    "#             fmap_path = os.path.join(fmap_path,fl)\n",
    "#             shutil.copy2(g,fmap_path) \n",
    "#         else: print('wrong file in fieldmap'+g)"
   ]
  },
  {
   "cell_type": "code",
   "execution_count": 76,
   "id": "80db9e18",
   "metadata": {},
   "outputs": [
    {
     "data": {
      "text/plain": [
       "{'Modality': 'MR',\n",
       " 'MagneticFieldStrength': 3,\n",
       " 'ImagingFrequency': 127.76,\n",
       " 'Manufacturer': 'Philips',\n",
       " 'ManufacturersModelName': 'Ingenia CX',\n",
       " 'InstitutionName': 'SEVERANCE MRI IUC 3.0T',\n",
       " 'InstitutionalDepartmentName': 'Radiology',\n",
       " 'DeviceSerialNumber': '78075',\n",
       " 'StationName': 'HOST-B4U2QAA7B9',\n",
       " 'BodyPartExamined': 'NECK',\n",
       " 'PatientPosition': 'HFS',\n",
       " 'SoftwareVersions': '5.3.0\\\\5.3.0.3',\n",
       " 'MRAcquisitionType': '2D',\n",
       " 'SeriesDescription': 'Resting 150dyn 5min',\n",
       " 'ProtocolName': 'Resting 150dyn 5min',\n",
       " 'ScanningSequence': 'GR',\n",
       " 'SequenceVariant': 'SK',\n",
       " 'ScanOptions': 'FS',\n",
       " 'ImageType': ['ORIGINAL', 'PRIMARY', 'M', 'FFE', 'M', 'FFE'],\n",
       " 'SeriesNumber': 201,\n",
       " 'AcquisitionTime': '08:51:42.010000',\n",
       " 'AcquisitionNumber': 2,\n",
       " 'PhilipsRescaleSlope': 0.752381,\n",
       " 'PhilipsRescaleIntercept': 0,\n",
       " 'PhilipsScaleSlope': 0.0261601,\n",
       " 'UsePhilipsFloatNotDisplayScaling': 1,\n",
       " 'SliceThickness': 3,\n",
       " 'SpacingBetweenSlices': 4,\n",
       " 'SAR': 0.0824052,\n",
       " 'EchoTime': 0.022,\n",
       " 'RepetitionTime': 2,\n",
       " 'MTState': False,\n",
       " 'FlipAngle': 90,\n",
       " 'CoilString': 'MULTI COIL',\n",
       " 'PercentPhaseFOV': 100,\n",
       " 'PercentSampling': 97.2222,\n",
       " 'EchoTrainLength': 39,\n",
       " 'PhaseEncodingSteps': 78,\n",
       " 'AcquisitionMatrixPE': 78,\n",
       " 'ReconMatrixPE': 80,\n",
       " 'ParallelReductionFactorInPlane': 2,\n",
       " 'ParallelAcquisitionTechnique': 'SENSE',\n",
       " 'WaterFatShift': 10.5226,\n",
       " 'EstimatedEffectiveEchoSpacing': 0.000298967,\n",
       " 'EstimatedTotalReadoutTime': 0.0236184,\n",
       " 'PixelBandwidth': 2199,\n",
       " 'PhaseEncodingAxis': 'j',\n",
       " 'ImageOrientationPatientDICOM': [0.998908,\n",
       "  0.00206406,\n",
       "  0.0466827,\n",
       "  -0.00120954,\n",
       "  0.999831,\n",
       "  -0.0183258],\n",
       " 'InPlanePhaseEncodingDirectionDICOM': 'COL',\n",
       " 'ConversionSoftware': 'dcm2niix',\n",
       " 'ConversionSoftwareVersion': 'v1.0.20211006'}"
      ]
     },
     "execution_count": 76,
     "metadata": {},
     "output_type": "execute_result"
    }
   ],
   "source": [
    "#  파일명 바꾸기\n",
    "test_json = 'D:\\\\Guro_Psy_KJH Dropbox\\\\1.Projects\\\\1.anxiety_VR\\\\3.Data\\\\3.MRI\\\\0.sourcedata\\\\sub-0001\\\\ses-01\\\\sub-0001_ses-01\\\\sub-0001_ses-01_Resting_150dyn_5min_201.json'\n",
    "with open(test_json,'r') as f:\n",
    "    json_data = json.load(f)\n",
    "json_data"
   ]
  }
 ],
 "metadata": {
  "kernelspec": {
   "display_name": "Python 3",
   "language": "python",
   "name": "python3"
  },
  "language_info": {
   "codemirror_mode": {
    "name": "ipython",
    "version": 3
   },
   "file_extension": ".py",
   "mimetype": "text/x-python",
   "name": "python",
   "nbconvert_exporter": "python",
   "pygments_lexer": "ipython3",
   "version": "3.8.10"
  },
  "vscode": {
   "interpreter": {
    "hash": "e7370f93d1d0cde622a1f8e1c04877d8463912d04d973331ad4851f04de6915a"
   }
  }
 },
 "nbformat": 4,
 "nbformat_minor": 5
}
